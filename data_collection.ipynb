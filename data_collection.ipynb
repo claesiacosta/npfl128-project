{
 "cells": [
  {
   "cell_type": "code",
   "execution_count": 1,
   "metadata": {
    "scrolled": true
   },
   "outputs": [],
   "source": [
    "import tweepy\n",
    "import json\n",
    "import csv"
   ]
  },
  {
   "cell_type": "markdown",
   "metadata": {},
   "source": [
    "#### Defining keys to auth and access API"
   ]
  },
  {
   "cell_type": "code",
   "execution_count": 2,
   "metadata": {},
   "outputs": [],
   "source": [
    "consumer_key = ''\n",
    "consumer_secret = ''\n",
    "access_token = ''\n",
    "access_secret = ''"
   ]
  },
  {
   "cell_type": "markdown",
   "metadata": {},
   "source": [
    "#### Header to datasets and saving interesting features that can be useful"
   ]
  },
  {
   "cell_type": "code",
   "execution_count": 3,
   "metadata": {},
   "outputs": [],
   "source": [
    "header = ['id', 'text','preprocessed', 'sentiment']\n",
    "header1 = ['id', 'text', 'created_at', 'location', 'favorite_count', 'retweet_count']"
   ]
  },
  {
   "cell_type": "markdown",
   "metadata": {},
   "source": [
    "#### Function to data extraction, only to use as example and to test the classification code. "
   ]
  },
  {
   "cell_type": "code",
   "execution_count": 4,
   "metadata": {},
   "outputs": [],
   "source": [
    "def extract_tweet(writer, writer1):\n",
    "    try:\n",
    "        auth = tweepy.OAuthHandler(consumer_key,consumer_secret)\n",
    "        auth.set_access_token(access_token, access_secret)\n",
    "\n",
    "        api = tweepy.API(auth)\n",
    "        \n",
    "        query = 'pandemia'\n",
    "        language = 'pt'\n",
    "        since = '2020-05-01'\n",
    "        max_id = -1\n",
    "        maxTweets = 1000\n",
    "        sinceId = None\n",
    "        tweetCount = 0\n",
    "        print(\"def:\", api.rate_limit_status()['resources']['application']['/application/rate_limit_status']['remaining'])\n",
    "        while tweetCount < maxTweets:\n",
    "            try:\n",
    "                if (max_id <= 0):\n",
    "                    if (not sinceId):\n",
    "                        results = api.search(q = query, lang = language, since = since, result_type = 'recent', count = 100, tweet_mode = 'extended')\n",
    "                    else:\n",
    "                        results = api.search(q = query, lang = language, since = since, result_type = 'recent', count = 100, \n",
    "                                            tweet_mode = 'extended', since_id=sinceId)\n",
    "                else:\n",
    "                    if (not sinceId):\n",
    "                        results = api.search(q = query, lang = language, since = since, result_type = 'recent', count = 100, \n",
    "                                            tweet_mode = 'extended', max_id=str(max_id - 1))\n",
    "                    else:\n",
    "                        results = api.search(q = query, lang = language, since = since, result_type = 'recent', count = 100, \n",
    "                                            tweet_mode = 'extended', max_id=str(max_id - 1), since_id=sinceId)\n",
    "                if not results:\n",
    "                    break\n",
    "                    \n",
    "                for tweet in results:\n",
    "                    if not tweet.full_text.startswith(\"RT\"):\n",
    "                        data = [tweet.id, tweet.full_text]\n",
    "                        writer.writerow(data)\n",
    "                        data1 = [tweet.id, tweet.full_text, tweet.created_at, tweet.favorite_count, tweet.retweet_count, tweet.user.location]\n",
    "                        writer1.writerow(data1)\n",
    "                        tweetCount += 1\n",
    "                        if tweetCount ==1000:\n",
    "                            break\n",
    "                        \n",
    "                \n",
    "                print(\"Downloaded {0} tweets\".format(tweetCount))\n",
    "                max_id = results[-1].id\n",
    "            except tweepy.TweepError as e:\n",
    "                print(\"some error : \" + str(e))\n",
    "                break\n",
    "    except tweepy.error.TweepError as e:\n",
    "        raise"
   ]
  },
  {
   "cell_type": "markdown",
   "metadata": {},
   "source": [
    "#### Saving the collect data and in CSV files"
   ]
  },
  {
   "cell_type": "code",
   "execution_count": 6,
   "metadata": {},
   "outputs": [
    {
     "name": "stdout",
     "output_type": "stream",
     "text": [
      "def: 180\n",
      "Downloaded 44 tweets\n",
      "Downloaded 83 tweets\n",
      "Downloaded 127 tweets\n",
      "Downloaded 174 tweets\n",
      "Downloaded 224 tweets\n",
      "Downloaded 274 tweets\n",
      "Downloaded 311 tweets\n",
      "Downloaded 353 tweets\n",
      "Downloaded 393 tweets\n",
      "Downloaded 432 tweets\n",
      "Downloaded 468 tweets\n",
      "Downloaded 512 tweets\n",
      "Downloaded 559 tweets\n",
      "Downloaded 596 tweets\n",
      "Downloaded 631 tweets\n",
      "Downloaded 674 tweets\n",
      "Downloaded 715 tweets\n",
      "Downloaded 752 tweets\n",
      "Downloaded 785 tweets\n",
      "Downloaded 831 tweets\n",
      "Downloaded 870 tweets\n",
      "Downloaded 910 tweets\n",
      "Downloaded 957 tweets\n",
      "Downloaded 1000 tweets\n"
     ]
    }
   ],
   "source": [
    "with open('tweets_all.csv', 'w', encoding='UTF8') as f1, open('tweets.csv', 'w', encoding='UTF8') as f:\n",
    "    writer1 = csv.writer(f1)\n",
    "    writer = csv.writer(f)\n",
    "    writer1.writerow(header1)\n",
    "    writer.writerow(header)\n",
    "    \n",
    "    extract_tweet(writer, writer1)\n",
    "   \n"
   ]
  },
  {
   "cell_type": "code",
   "execution_count": 7,
   "metadata": {},
   "outputs": [],
   "source": [
    "f1.close() \n",
    "f.close() "
   ]
  },
  {
   "cell_type": "code",
   "execution_count": null,
   "metadata": {},
   "outputs": [],
   "source": []
  }
 ],
 "metadata": {
  "kernelspec": {
   "display_name": "Python 3",
   "language": "python",
   "name": "python3"
  },
  "language_info": {
   "codemirror_mode": {
    "name": "ipython",
    "version": 3
   },
   "file_extension": ".py",
   "mimetype": "text/x-python",
   "name": "python",
   "nbconvert_exporter": "python",
   "pygments_lexer": "ipython3",
   "version": "3.6.9"
  }
 },
 "nbformat": 4,
 "nbformat_minor": 4
}
